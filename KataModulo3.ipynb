{
 "cells": [
  {
   "cell_type": "code",
   "execution_count": 1,
   "metadata": {},
   "outputs": [
    {
     "name": "stdout",
     "output_type": "stream",
     "text": [
      "El asteroide va muy rapido\n"
     ]
    }
   ],
   "source": [
    "asteroide = 100\n",
    "if asteroide > 50:\n",
    "    print('El asteroide va muy rapido')\n",
    "else:\n",
    "    print('Continua')"
   ]
  },
  {
   "cell_type": "code",
   "execution_count": 2,
   "metadata": {},
   "outputs": [
    {
     "name": "stdout",
     "output_type": "stream",
     "text": [
      "Continua\n"
     ]
    }
   ],
   "source": [
    "asteroide = 19\n",
    "if asteroide > 20:\n",
    "    print('Mira la luz en cielo')\n",
    "elif asteroide == 20:\n",
    "    print('Mira la luz en el cielo')\n",
    "else:\n",
    "    print('Continua')"
   ]
  },
  {
   "cell_type": "code",
   "execution_count": 4,
   "metadata": {},
   "outputs": [
    {
     "name": "stdout",
     "output_type": "stream",
     "text": [
      "mira el cielo una luz\n"
     ]
    }
   ],
   "source": [
    "\n",
    "velocidad_asteroide = 25\n",
    "tamano_asteroide = 40\n",
    "if velocidad_asteroide > 25 and tamano_asteroide > 25:\n",
    "    print('Muy rapido el asteroide !')\n",
    "elif velocidad_asteroide >= 20:\n",
    "    print('mira el cielo una luz')\n",
    "elif tamano_asteroide < 25:\n",
    "    print('Continua')\n",
    "else:\n",
    "    print('Continua')"
   ]
  }
 ],
 "metadata": {
  "interpreter": {
   "hash": "81810d266e820bb9ea11af604e3b31a4f39925bf11b490470e1369f49c88cd6c"
  },
  "kernelspec": {
   "display_name": "Python 3.9.10 64-bit (windows store)",
   "language": "python",
   "name": "python3"
  },
  "language_info": {
   "codemirror_mode": {
    "name": "ipython",
    "version": 3
   },
   "file_extension": ".py",
   "mimetype": "text/x-python",
   "name": "python",
   "nbconvert_exporter": "python",
   "pygments_lexer": "ipython3",
   "version": "3.9.10"
  },
  "orig_nbformat": 4
 },
 "nbformat": 4,
 "nbformat_minor": 2
}
