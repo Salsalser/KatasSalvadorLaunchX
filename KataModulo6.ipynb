{
 "cells": [
  {
   "cell_type": "code",
   "execution_count": 3,
   "metadata": {},
   "outputs": [
    {
     "name": "stdout",
     "output_type": "stream",
     "text": [
      "['Mercurio', 'Venus', 'Tierra', 'Marte', 'Jupiter', 'Saturno', 'Urano', 'Neptuno']\n",
      "Pluton\n"
     ]
    }
   ],
   "source": [
    "planetas = ['Mercurio','Venus','Tierra', 'Marte', 'Jupiter', 'Saturno','Urano','Neptuno']\n",
    "\n",
    "\n",
    "print(planetas)\n",
    "\n",
    "\n",
    "planetas.append('Pluton')\n",
    "\n",
    "print(planetas[-1])"
   ]
  },
  {
   "cell_type": "code",
   "execution_count": 5,
   "metadata": {},
   "outputs": [
    {
     "name": "stdout",
     "output_type": "stream",
     "text": [
      "Planetas cerca a Jupiter\n",
      "['Mercurio', 'Venus', 'Tierra', 'Marte']\n",
      "Planetas mas lejanos al son Jupiter\n",
      "['Saturno', 'Urano', 'Neptuno', 'Pluton']\n"
     ]
    }
   ],
   "source": [
    "planets = ['Mercury', 'Venus', 'Earth', 'Mars', 'Jupiter', 'Saturn', 'Neptune']\n",
    "\n",
    "nombre_planeta = input('Dame el nombre de algun planeta')\n",
    "\n",
    "planeta_index = planetas.index(nombre_planeta)\n",
    "\n",
    "print('Planetas cerca a al sol' + nombre_planeta)\n",
    "print(planetas[0:planeta_index])\n",
    "\n",
    "print('Planetas mas lejanos al sol ' + nombre_planeta)\n",
    "print(planetas[planeta_index + 1:])\n",
    "\n"
   ]
  }
 ],
 "metadata": {
  "interpreter": {
   "hash": "81810d266e820bb9ea11af604e3b31a4f39925bf11b490470e1369f49c88cd6c"
  },
  "kernelspec": {
   "display_name": "Python 3.9.10 64-bit (windows store)",
   "language": "python",
   "name": "python3"
  },
  "language_info": {
   "codemirror_mode": {
    "name": "ipython",
    "version": 3
   },
   "file_extension": ".py",
   "mimetype": "text/x-python",
   "name": "python",
   "nbconvert_exporter": "python",
   "pygments_lexer": "ipython3",
   "version": "3.9.10"
  },
  "orig_nbformat": 4
 },
 "nbformat": 4,
 "nbformat_minor": 2
}
