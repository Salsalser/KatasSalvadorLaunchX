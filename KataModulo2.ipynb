{
 "cells": [
  {
   "cell_type": "code",
   "execution_count": 2,
   "metadata": {},
   "outputs": [
    {
     "name": "stdout",
     "output_type": "stream",
     "text": [
      "Cuidado el asteroide va muy fuerte\n"
     ]
    }
   ],
   "source": [
    "asteroide = 10\n",
    "\n",
    "\n",
    "if asteroide > 5:\n",
    "    print(\"Cuidado el asteroide va muy fuerte\")\n",
    "else:\n",
    "    print(\"No hay de que preocuparse\")"
   ]
  },
  {
   "cell_type": "code",
   "execution_count": 6,
   "metadata": {},
   "outputs": [
    {
     "name": "stdout",
     "output_type": "stream",
     "text": [
      "Continua tu dia no hay nada\n"
     ]
    }
   ],
   "source": [
    "asteroide = 19\n",
    "\n",
    "if asteroide > 20:\n",
    "    print(\"Mira al cielo una luz fugaz\")\n",
    "elif asteroide == 20:\n",
    "    print(\"Una luz en el cielo\")\n",
    "else:\n",
    "    print(\"Continua tu dia no hay nada\")"
   ]
  },
  {
   "cell_type": "code",
   "execution_count": 7,
   "metadata": {},
   "outputs": [
    {
     "name": "stdout",
     "output_type": "stream",
     "text": [
      "Mira le cielo una luz\n"
     ]
    }
   ],
   "source": [
    "velocidad = 50\n",
    "tamaño = 100\n",
    "\n",
    "if velocidad > 50 and tamaño > 100:\n",
    "    print(\"Cuidate el asteroide es muy fuerte, rapido y peligroso\")\n",
    "elif velocidad >= 50:\n",
    "    print(\"Mira el cielo una luz\")\n",
    "elif velocidad <= 50:\n",
    "    print(\"No hay nada que ver\")\n",
    "else:\n",
    "    print(\"No hay nada, continua con normaliadad\")"
   ]
  }
 ],
 "metadata": {
  "interpreter": {
   "hash": "81810d266e820bb9ea11af604e3b31a4f39925bf11b490470e1369f49c88cd6c"
  },
  "kernelspec": {
   "display_name": "Python 3.9.10 64-bit (windows store)",
   "language": "python",
   "name": "python3"
  },
  "language_info": {
   "codemirror_mode": {
    "name": "ipython",
    "version": 3
   },
   "file_extension": ".py",
   "mimetype": "text/x-python",
   "name": "python",
   "nbconvert_exporter": "python",
   "pygments_lexer": "ipython3",
   "version": "3.9.10"
  },
  "orig_nbformat": 4
 },
 "nbformat": 4,
 "nbformat_minor": 2
}
